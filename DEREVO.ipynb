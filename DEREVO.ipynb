{
  "nbformat": 4,
  "nbformat_minor": 0,
  "metadata": {
    "colab": {
      "name": "Day2.ipynb",
      "provenance": [],
      "include_colab_link": true
    },
    "kernelspec": {
      "name": "python3",
      "display_name": "Python 3"
    }
  },
  "cells": [
    {
      "cell_type": "markdown",
      "metadata": {
        "id": "view-in-github",
        "colab_type": "text"
      },
      "source": [
        "<a href=\"https://colab.research.google.com/github/ramires666/cloud-to-butt/blob/master/DEREVO.ipynb\" target=\"_parent\"><img src=\"https://colab.research.google.com/assets/colab-badge.svg\" alt=\"Open In Colab\"/></a>"
      ]
    },
    {
      "cell_type": "markdown",
      "metadata": {
        "id": "p6IupmWmbWOR"
      },
      "source": [
        "# День 2\n",
        "Предсказание курса доллара\n",
        "\n",
        "* Хитро готовим данные\n",
        "* Пробуем разные модели\n",
        "* Оценим качество моделей\n",
        "* Выдадим вам ДЗ на конкурс\n",
        "\n",
        "Данные от центробанка: http://cbr.ru/currency_base/dynamics/\n",
        "\n",
        "Данные по нефти: https://www.eia.gov/dnav/pet/hist/rbrteD.htm"
      ]
    }
  ]
}